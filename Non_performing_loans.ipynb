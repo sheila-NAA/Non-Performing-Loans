{
 "cells": [
  {
   "cell_type": "code",
   "execution_count": 1,
   "id": "347ab443-4a82-46bb-b64a-e6c0fb9233a8",
   "metadata": {},
   "outputs": [
    {
     "name": "stdout",
     "output_type": "stream",
     "text": [
      "Requirement already satisfied: requests in /opt/anaconda3/lib/python3.12/site-packages (2.32.3)\n",
      "Requirement already satisfied: pdfplumber in /opt/anaconda3/lib/python3.12/site-packages (0.11.4)\n",
      "Requirement already satisfied: charset-normalizer<4,>=2 in /opt/anaconda3/lib/python3.12/site-packages (from requests) (3.3.2)\n",
      "Requirement already satisfied: idna<4,>=2.5 in /opt/anaconda3/lib/python3.12/site-packages (from requests) (3.7)\n",
      "Requirement already satisfied: urllib3<3,>=1.21.1 in /opt/anaconda3/lib/python3.12/site-packages (from requests) (2.2.3)\n",
      "Requirement already satisfied: certifi>=2017.4.17 in /opt/anaconda3/lib/python3.12/site-packages (from requests) (2024.8.30)\n",
      "Requirement already satisfied: pdfminer.six==20231228 in /opt/anaconda3/lib/python3.12/site-packages (from pdfplumber) (20231228)\n",
      "Requirement already satisfied: Pillow>=9.1 in /opt/anaconda3/lib/python3.12/site-packages (from pdfplumber) (10.4.0)\n",
      "Requirement already satisfied: pypdfium2>=4.18.0 in /opt/anaconda3/lib/python3.12/site-packages (from pdfplumber) (4.30.0)\n",
      "Requirement already satisfied: cryptography>=36.0.0 in /opt/anaconda3/lib/python3.12/site-packages (from pdfminer.six==20231228->pdfplumber) (43.0.0)\n",
      "Requirement already satisfied: cffi>=1.12 in /opt/anaconda3/lib/python3.12/site-packages (from cryptography>=36.0.0->pdfminer.six==20231228->pdfplumber) (1.17.1)\n",
      "Requirement already satisfied: pycparser in /opt/anaconda3/lib/python3.12/site-packages (from cffi>=1.12->cryptography>=36.0.0->pdfminer.six==20231228->pdfplumber) (2.21)\n",
      "Note: you may need to restart the kernel to use updated packages.\n"
     ]
    }
   ],
   "source": [
    "pip install requests pdfplumber"
   ]
  },
  {
   "cell_type": "code",
   "execution_count": 2,
   "id": "b0688cca-6577-4f58-894d-340eaa95ce76",
   "metadata": {},
   "outputs": [],
   "source": [
    "import requests\n",
    "import re\n",
    "import pdfplumber\n",
    "from bs4 import BeautifulSoup\n"
   ]
  },
  {
   "cell_type": "code",
   "execution_count": 3,
   "id": "f2923e1e-e287-410c-b428-fc8494606e99",
   "metadata": {},
   "outputs": [],
   "source": [
    "URL = \"https://www.absa.com.gh/reports/\""
   ]
  },
  {
   "cell_type": "code",
   "execution_count": 4,
   "id": "971345b5-19d3-41a7-9d51-571a93d4afa9",
   "metadata": {},
   "outputs": [],
   "source": [
    "req = requests.get(URL)"
   ]
  },
  {
   "cell_type": "code",
   "execution_count": 5,
   "id": "c38c9305-fa9c-436b-857e-a97e2c3ddcef",
   "metadata": {},
   "outputs": [],
   "source": [
    "req_text = req.content"
   ]
  },
  {
   "cell_type": "code",
   "execution_count": 6,
   "id": "47677266-2074-4516-a028-2ee4c42f8fc6",
   "metadata": {},
   "outputs": [],
   "source": [
    "soup = BeautifulSoup(req.text,'html.parser')"
   ]
  },
  {
   "cell_type": "code",
   "execution_count": 7,
   "id": "fe5498df-747f-4527-9b17-d9d67e5d67ea",
   "metadata": {},
   "outputs": [],
   "source": [
    "links = soup.find_all('a')"
   ]
  },
  {
   "cell_type": "code",
   "execution_count": 8,
   "id": "ebe74bae-0d4a-4855-881b-6d36ee1a19cc",
   "metadata": {},
   "outputs": [],
   "source": [
    "for link in links:\n",
    "    tot_links = link.get('href')\n"
   ]
  },
  {
   "cell_type": "code",
   "execution_count": 9,
   "id": "6efa0a17-6344-436a-98a7-b4c2618cff1b",
   "metadata": {},
   "outputs": [
    {
     "name": "stdout",
     "output_type": "stream",
     "text": [
      "['https://www.absa.com.gh/content/dam/ghana/absa/pdf/annual-reports/q3-2024-financial-statement.pdf', 'https://www.absa.com.gh/content/dam/ghana/absa/pdf/annual-reports/q2-2024-financial-statement.pdf', 'https://www.absa.com.gh/content/dam/ghana/absa/pdf/annual-reports/q1-2024-financial-statement.pdf', 'https://www.absa.com.gh/content/dam/ghana/absa/pdf/annual-reports/financial-statement-q3-2023.pdf', 'https://www.absa.com.gh/content/dam/ghana/absa/pdf/annual-reports/q2-2023-financial-statement.pdf', 'https://www.absa.com.gh/content/dam/ghana/absa/pdf/annual-reports/q1-2023-financial-statement.pdf', 'https://www.absa.com.gh/content/dam/ghana/absa/pdf/annual-reports/q3-2022-financial-statement.pdf', 'https://www.absa.com.gh/content/dam/ghana/absa/pdf/annual-reports/financial-statement-q2-period-ended-30-june-2022.pdf', 'https://www.absa.com.gh/content/dam/ghana/absa/pdf/annual-reports/financial-statement-q3-for-period-30-september-2021.pdf', 'https://www.absa.com.gh/content/dam/ghana/absa/pdf/annual-reports/financial-statement-q2-30-june-2021.pdf', 'https://www.absa.com.gh/content/dam/ghana/absa/pdf/annual-reports/financial -satement-q1-31-march-2021.pdf', 'https://www.absa.com.gh/content/dam/ghana/absa/pdf/annual-reports/financial-statement-q3-for-the-period-ended-30-september-2020.pdf', 'https://www.absa.com.gh/content/dam/ghana/absa/pdf/annual-reports/financial-statement-q2-for-the-period-ended-30-june-2020.pdf', 'https://www.absa.com.gh/content/dam/ghana/absa/pdf/annual-reports/financial-statement-q1-for-the-period-ended-31-march-2020.pdf', 'https://www.absa.com.gh/content/dam/ghana/absa/pdf/annual-reports/financial-statement-Q2-2019.pdf', 'https://www.absa.com.gh/content/dam/ghana/absa/pdf/annual-reports/financial-statement-q1-for-the-period-ended-31-march-2019.pdf', 'https://www.absa.com.gh/content/dam/ghana/absa/pdf/base-rate/Financial-Statement-Q1-for-the-period-ended-31-March-2018.pdf', 'https://www.absa.com.gh/content/dam/ghana/absa/pdf/annual-reports/financial-%20statement-%20Q2%202017.pdf', 'https://www.absa.com.gh/content/dam/ghana/absa/pdf/base-rate/financial-statement-q3-for-the-period-ended-30-september-2017.pdf']\n"
     ]
    }
   ],
   "source": [
    "base_url = \"https://www.absa.com.gh\"\n",
    "\n",
    "# List to store filtered links with base URL added\n",
    "filtered_links = []\n",
    "\n",
    "for link in links:\n",
    "    tot_links = link.get('href')\n",
    "    \n",
    "    # Check if the link contains 'q1', 'q2', or 'q3'\n",
    "    if tot_links and any(q in tot_links.lower() for q in ['q1', 'q2', 'q3']):\n",
    "        # Add the base URL if the link is relative\n",
    "        if not tot_links.startswith(\"http\"):\n",
    "            tot_links = base_url + tot_links\n",
    "        filtered_links.append(tot_links)\n",
    "\n",
    "# Print the filtered list of links with base URL added\n",
    "print(filtered_links)"
   ]
  },
  {
   "cell_type": "code",
   "execution_count": 10,
   "id": "3b0647d2-a14a-463a-aa83-057259f4f0b3",
   "metadata": {},
   "outputs": [],
   "source": [
    "def download_file(url):\n",
    "    local_filename = url.split('/')[-1]\n",
    "\n",
    "    with requests.get(url) as r:\n",
    "        with open (local_filename, 'wb') as f:\n",
    "            f.write(r.content)\n",
    "    return local_filename"
   ]
  },
  {
   "cell_type": "code",
   "execution_count": 11,
   "id": "29deb966-ff12-486d-b8cb-2dcf56d72849",
   "metadata": {},
   "outputs": [
    {
     "name": "stdout",
     "output_type": "stream",
     "text": [
      "q3-2024-financial-statement.pdf\n",
      "q2-2024-financial-statement.pdf\n",
      "q1-2024-financial-statement.pdf\n",
      "financial-statement-q3-2023.pdf\n",
      "q2-2023-financial-statement.pdf\n",
      "q1-2023-financial-statement.pdf\n",
      "q3-2022-financial-statement.pdf\n",
      "financial-statement-q2-period-ended-30-june-2022.pdf\n",
      "financial-statement-q3-for-period-30-september-2021.pdf\n",
      "financial-statement-q2-30-june-2021.pdf\n",
      "financial -satement-q1-31-march-2021.pdf\n",
      "financial-statement-q3-for-the-period-ended-30-september-2020.pdf\n",
      "financial-statement-q2-for-the-period-ended-30-june-2020.pdf\n",
      "financial-statement-q1-for-the-period-ended-31-march-2020.pdf\n",
      "financial-statement-Q2-2019.pdf\n",
      "financial-statement-q1-for-the-period-ended-31-march-2019.pdf\n",
      "Financial-Statement-Q1-for-the-period-ended-31-March-2018.pdf\n",
      "financial-%20statement-%20Q2%202017.pdf\n",
      "financial-statement-q3-for-the-period-ended-30-september-2017.pdf\n"
     ]
    }
   ],
   "source": [
    "for url in filtered_links:\n",
    "    sep = download_file(url)\n",
    "    print(sep)"
   ]
  },
  {
   "cell_type": "code",
   "execution_count": 12,
   "id": "aa11fb40-0f22-4676-8e89-b730a3be8c2d",
   "metadata": {},
   "outputs": [],
   "source": [
    "with pdfplumber.open(sep) as pdf:\n",
    "        page = pdf.pages[-1]\n",
    "        text = page.extract_text()\n",
    "        "
   ]
  },
  {
   "cell_type": "code",
   "execution_count": 13,
   "id": "0c599068-e8c6-4512-b624-64dcad088803",
   "metadata": {},
   "outputs": [
    {
     "name": "stdout",
     "output_type": "stream",
     "text": [
      "Your story matters\n",
      "Statement of Changes in Equity for the period ended 30 June 2023\n",
      "Stated Capital Retained Earnings Statutory Reserve Credit Risk Reserve Other Reserves Total\n",
      "GHS’000 GHS’000 GHS’000 GHS’000 GHS’000 GHS’000\n",
      "Balance at 1 January 2023 400,000 885,231 631,240 - 221,860 2,138,331\n",
      "Total comprehensive income\n",
      "Profit for the period - 730,760 - - - 730,760\n",
      "Other comprehensive income - - - - - -\n",
      "ECL on investment at FVOCI - - - - (838,161) (838,161)\n",
      "Changes in fair value on financial asset at FVOCI - - - - 663,874 663,874\n",
      "Total other comprehensive income - - - - (174,287) (174,287)\n",
      "Total comprehensive income for the period - 730,760 - - (174,287) 556,473\n",
      "Transactions with equity holders of the bank - - - - - -\n",
      "Contributions and distributions - - - - - -\n",
      "Share-based payment scheme - - - - (1,041) (1,041)\n",
      "Total contributions and distributions - - - - (1,041) (1,041)\n",
      "Other transfers\n",
      "Transfer to credit risk reserve - (250,843) - 250,843 - -\n",
      "- - -\n",
      "Transfer to statutory reserve - (91,345) 91,345\n",
      "Total other transfers - (342,188) 91,345 250,843 - -\n",
      "- -\n",
      "Balance at 30 June 2023 400,000 1,273,803 722,585 250,843 46,531 2,693,762\n",
      "Statement of Cash Flows for the period ended 30 June 2024 Notes to the Summary Financial Statements\n",
      "2024 2023\n",
      "Disclosures – Quantitative\n",
      "H1 2024 H1 2023\n",
      "GHS’000 GHS’000 Capital adequacy ratio\n",
      "Cash flows from operating activities 19.07% 18.09%\n",
      "Non-performing loan (NPL) ratio\n",
      "Profit for the period 543,028 730,760 15.20% 18.38%\n",
      "Adjustments for: Liquid ratio 76.83% 80.11%\n",
      "Depreciation and amortisation 21,763 18,547 Leverage ratio 8.63% 7.46%\n",
      "Net impairment loss on financial assets 146,517 (2,935)\n",
      "Income tax expense 305,870 417,638 Disclosures – Qualitative\n",
      "Net interest income (1,138,138) (1,018,096) Dominant Risks\n",
      "Accrued non-interest income (451,420) (138,545) The Bank has exposure to the following risks from its use of financial\n",
      "Unrealised gain on derivatives 14,584 246 973 instruments and from operations:\n",
      "Accrued operating expenses 102 26,752 • Credit risk\n",
      "Equity settled sharebased payments (1,350) 3,505 • Liquidity risk\n",
      "Gain on disposal of property and equipment (116) (19)\n",
      "• Market risk\n",
      "( 559,160) 284,580\n",
      "• Operational risk\n",
      "Changes in:\n",
      "The Board of Directors has overall responsibility for the establishment and\n",
      "Non-pledged trading assets (751,950) 240,398\n",
      "Pledged trading assets 211,145 - oversight of the Bank’s risk management framework. The board has established\n",
      "Loans and advances to banks (101,757) 768,122 the Bank’s Asset and Liability (ALCO) and the Credit and Operational Risk\n",
      "Loans and advances to customers (1,387,476) (179,742) Committees, which are responsible for developing and monitoring the Bank’s\n",
      "Other assets (126,604) (78,847) risk management policies in their specified areas.\n",
      "Deposits from banks (51,342) 232,511\n",
      "Deposits from customers 1,742,495 2,301,468 Other Disclosures\n",
      "Other liabilities and provisions 40,471 82,557 1. The financial statements have been prepared in accordance with International\n",
      "(984,178) 3,651,047 Financial Reporting Standards (IFRS) and in the manner required by the\n",
      "Companies Act, 2019 (Act 992) and the Banks and Specialized Deposit-Taking\n",
      "Institutions Act, 2016 (Act 930).\n",
      "Interest received 949,251 1,347,361\n",
      "Interest paid (361,541) (287,421)\n",
      "2. These policies have been consistently applied to all the years presented.\n",
      "Taxes paid (242,904) (241,845)\n",
      "Net cash used in operating activities (6 39,372) 4,469,142\n",
      "3. F or the period under review, the bank did not record any statutory liquidity\n",
      "Cash flows from investing activities breaches.\n",
      "Net proceeds/(acquisition) of investment securities 83,650 (2,154,056) H1 2024 H1 2023\n",
      "Acquisition of property and equipment (109,636) (35,917) (a) Default in statutory liquidity Nil Nil\n",
      "Proceeds from disposal and equipment 259 19 (b) Sanctions (GHS’m) Nil Nil\n",
      "Acquisition of intangible assets - (8,959)\n",
      "Net cash from/(used) in investing activities (25,727) (2,198,913) 4. Other regulatory breaches (including onsite examinations)\n",
      "Cash flows from financing activities:\n",
      "(a) Number of breaches Nil 11\n",
      "(b) Total sanctions (GHS’m) Nil 60\n",
      "(2,457) (8,840)\n",
      "Net Proceeds/(repayment) of borrowed funds 812,357 (587,231)\n",
      "5. The financial statements do not contain any untrue statements, misleading\n",
      "Net cash from/(used) financing activities 809,900 (596,071)\n",
      "facts or omit material facts, to the best of our knowledge.\n",
      "Net increase in cash and cash equivalents 144,801 1,67 4,158 _ _ _ _ _ _ S__ig_n_e__d_ _ _ _ _ _ _ _ _ _ _ _ S_i_g_n_e_d_______\n",
      "Cash and cash equivalents at 1 January 8,466,367 3,878,294 Frances Adu-Mante Prince Adolph Kpegah\n",
      "Effect of exchange rate fluctuations on cash held 451,485 348,133 Chairperson Executive Director\n",
      "Cash and cash equivalents as at 30 June** 9,062,653 5,900,585\n",
      "** Cash and cash equivalents exclude expected credit loss of GHS 44m (2023: GHS 19m).\n",
      "Absa Bank Ghana LTD. Registration no. CS144072016. Regulated by Bank of Ghana. Toll free: 0800 222 333\n"
     ]
    }
   ],
   "source": [
    "print(pdfplumber.open('q2-2024-financial-statement.pdf').pages[-1].extract_text())"
   ]
  },
  {
   "cell_type": "code",
   "execution_count": 14,
   "id": "9d431592-7ebb-4652-a4d5-6b184bce7dff",
   "metadata": {},
   "outputs": [
    {
     "name": "stdout",
     "output_type": "stream",
     "text": [
      "Barclays Bank of Ghana Limited\n",
      "UNAUDITED FINANCIAL STATEMENTS\n",
      "30 September 2017\n",
      "UNAUDITED STATEMENT OF PROFIT OR LOSS UNAUDITED STATEMENT OF CASH FLOWS\n",
      "FOR THE PERIOD ENDED 30 September 2017 FOR THE PERIOD ENDED 30 September 2017\n",
      "(All amounts are expressed in thousands of Ghana Cedis) (All amoun ts are expr essed in th ousands o f Ghana Ce dis)\n",
      "Q3 2017 Q3 2016 Q3 2017 Q3 2016\n",
      "Interest income 491,999 403,086\n",
      "Cash flows from operating activities\n",
      "Interest expense (106,291) (64,118)\n",
      "Profit for the period 292,332 190,372\n",
      "Net interest income 385,708 338,968\n",
      "Adjustments for:\n",
      "Fee and commission income 100,527 87,049\n",
      "Depreciation and amortisation 12,045 10,715\n",
      "Fee and commission expense (4,281) (603)\n",
      "Impairment loss on financial assets 15,020 5,973\n",
      "Net fee and commission income 96,246 86,446\n",
      "Income tax expense 128,070 82,981\n",
      "N et trading income 190,052 64,395 Net interest income 12,992 (9,121)\n",
      "Other operating income 612 257 168,127 90,548\n",
      "Total other income 190,664 64,652 Changes in trading assets (644,166) (128,646)\n",
      "Changes in loans and advances to financial institutions (15,515) 215,812\n",
      "Total Income 672,618 490,066 Changes in loans and advances to customers (732,355) (451,810)\n",
      "Changes in other assets (46,774) 8,913\n",
      "Impairment loss on financial assets (15,020) (5,973) Changes in deposits from banks 69,720 752,420\n",
      "Personnel expenses (149,446) (129,586) Changes in deposits from customers 325,778 258,803\n",
      "Operating lease expenses (8,341) (8,833) Changes in other liabilities and provisions 71,079 36,953\n",
      "Depreciation and amortization (12,045) (10,715)\n",
      "(972,233) 692,445\n",
      "Other expenses (67,364) (61,606)\n",
      "Interest received 496,558 388,719\n",
      "Profit before income tax 420,402 273,353 Interest paid (97,858) (58,872)\n",
      "Income tax paid (103,092) (85,019)\n",
      "Income tax expense (128,070) (82,981)\n",
      "Net cash used in operating activities (216,166) 1,218,193\n",
      "Profit for the period 292,332 190,372\n",
      "Cash flows from investing activities\n",
      "Purchase of investment securities 96,158 (664,874)\n",
      "Other comprehensive income, net of income tax\n",
      "Purchase of property and equipment (13,547) (15,946)\n",
      "Net gain on available-for-sale financial assets during\n",
      "Disposal of property and equipment 42 -\n",
      "the period 19,669 995\n",
      "Purchase of intangible assets - (401)\n",
      "Other comprehensive income for the period (net of income tax) 19,669 995 Net cash used in investing activities 82,653 (681,221)\n",
      "Cash flows from financing activities:\n",
      "Total comprehensive income for the period 312,001 191,367\n",
      "Dividend paid (150,000) (106,298)\n",
      "Net cash from financing activities (150,000) (106,298)\n",
      "UNAUDITED STATEMENT OF FINANCIAL POSITION Net (decrease)/increase in cash and cash equivalents (283,513) 430,674\n",
      "AS AT 30 September 2017\n",
      "(All amounts are expressed in thousands of Ghana Cedis) Cash and cash equivalents at 1 January 965,965 638,898\n",
      "Effect of exchange rate fluctuations on cash held 48,265 (24,767)\n",
      "Q3 2017 Q3 2016\n",
      "Assets Cash and cash equivalents at end of the period 730,717 1,044,805\n",
      "Cash and cash equivalents 730,717 1,044,805\n",
      "Non-pledged trading assets 881,767 975,691\n",
      "Loans and advances to customers 2,382,193 1,560,996 1. Significant accounting policies\n",
      "Investment securities 1,677,790 933,618 The financial statements have been prepared in accordance with International Financial Reporting Standards\n",
      "Current tax asset - 8,361 (IFRSs) as issued by the International Accounting Standards Board (IASB) and adopted by the Institute of\n",
      "Deferred tax assets 3,164 25,274 Chartered Accountants, Ghana (ICAG) and are consistent with those applied in the preparation of the annual\n",
      "consolidated financial statements.\n",
      "Intangible assets 267 348\n",
      "The accounting policies applied for the period ended 30 September 2017 are consistent with those applied in\n",
      "Other assets 127,856 107,706\n",
      "the preparation of the annual financial statements of 31 December 2016.\n",
      "Property, plant and equipment 61,267 58,689\n",
      "2. Quantitative Disclosures\n",
      "Total assets 5,865,021 4,715,488 Q3 2017 Q3 2016\n",
      "Equity and liabilities Capital adequacy ratio 21.18% 19.18%\n",
      "Non-performing loan (NPL) ratio 16.79% 19.56%\n",
      "Trading liabilities 26,485 14,494\n",
      "Deposits from banks 1,448,251 1,254,438 3. Qualitative Disclosures\n",
      "Deposits from customers 3,133,046 2,556,995 Dominant Risks\n",
      "Current tax liabilities 11,586 -\n",
      "The Bank has exposure to the following risks from its use of financial instruments and from operations:\n",
      "Retirement benefit obligations 52,579 30,342\n",
      "Credit risk\n",
      "Other liabilities 239,328 190,558\n",
      "Liquidity risk\n",
      "Market risk\n",
      "Total liabilities 4,911,275 4,046,827 Operational risk\n",
      "Equity The board of directors has overall responsibility for the establishment and oversight of the Bank’s risk\n",
      "Stated capital 115,046 115,046 management framework. The board has established the Bank’s Asset and Liability (ALCO) and the Credit\n",
      "and Operational Risk committees, which are responsible for developing and monitoring the Bank’s risk\n",
      "Income surplus 455,991 259,948\n",
      "management policies in their specified areas.\n",
      "Revaluation reserve - 161\n",
      "Statutory reserve 223,020 184,953 4. Defaults in statutory liquidity and accompanying sanctions\n",
      "Credit risk reserve 147,190 124,644\n",
      "September 2017 September 2016\n",
      "(a) Default in statutory liquidity Nil Nil\n",
      "Other reserves 12,499 (16,091)\n",
      "(b) Sanctions Nil Nil\n",
      "Total equity 953,746 668,661\n",
      "The financial statements do not contain any untrue statements, misleading facts or omit material facts, to\n",
      "the best of our knowledge.\n",
      "Total equity and liabilities 5,865,021 4,715,488\n",
      "Signed:\n",
      "Charles A. Cofie Patience Akyianu (Mrs)\n",
      "Chairman Managing Director\n",
      "+233 30 242 9150 | gh.barclaysafrica.com | service.excellence@barclays.com | In branch\n"
     ]
    }
   ],
   "source": [
    "print(pdfplumber.open('financial-statement-q3-for-the-period-ended-30-september-2017.pdf').pages[-1].extract_text())"
   ]
  }
 ],
 "metadata": {
  "kernelspec": {
   "display_name": "Python 3 (ipykernel)",
   "language": "python",
   "name": "python3"
  },
  "language_info": {
   "codemirror_mode": {
    "name": "ipython",
    "version": 3
   },
   "file_extension": ".py",
   "mimetype": "text/x-python",
   "name": "python",
   "nbconvert_exporter": "python",
   "pygments_lexer": "ipython3",
   "version": "3.12.7"
  }
 },
 "nbformat": 4,
 "nbformat_minor": 5
}
